{
  "nbformat": 4,
  "nbformat_minor": 0,
  "metadata": {
    "colab": {
      "name": "LilLulu.ipynb",
      "provenance": [],
      "collapsed_sections": [
        "y9WPWtrkZaUY",
        "kaPB42QQYiLr",
        "G_2brGrbgh2L",
        "VU-CFGouZ0rX",
        "jaOtOgv0Z30W",
        "fnqwxoGsqnI5",
        "nKXebBLtmAzi",
        "XzLbQ0Y_l-fu",
        "CCn9u3R1W58m"
      ]
    },
    "kernelspec": {
      "name": "python3",
      "display_name": "Python 3"
    },
    "accelerator": "GPU"
  },
  "cells": [
    {
      "cell_type": "markdown",
      "metadata": {
        "id": "czN9HuLUp92o",
        "colab_type": "text"
      },
      "source": [
        "# Setup"
      ]
    },
    {
      "cell_type": "code",
      "metadata": {
        "id": "Mb5cAsrsqARu",
        "colab_type": "code",
        "outputId": "dff06953-814c-4357-984e-44c391063a1c",
        "colab": {
          "base_uri": "https://localhost:8080/",
          "height": 293
        }
      },
      "source": [
        "!nvidia-smi"
      ],
      "execution_count": 0,
      "outputs": [
        {
          "output_type": "stream",
          "text": [
            "Fri May  8 07:44:55 2020       \n",
            "+-----------------------------------------------------------------------------+\n",
            "| NVIDIA-SMI 440.82       Driver Version: 418.67       CUDA Version: 10.1     |\n",
            "|-------------------------------+----------------------+----------------------+\n",
            "| GPU  Name        Persistence-M| Bus-Id        Disp.A | Volatile Uncorr. ECC |\n",
            "| Fan  Temp  Perf  Pwr:Usage/Cap|         Memory-Usage | GPU-Util  Compute M. |\n",
            "|===============================+======================+======================|\n",
            "|   0  Tesla T4            Off  | 00000000:00:04.0 Off |                    0 |\n",
            "| N/A   41C    P8     9W /  70W |      0MiB / 15079MiB |      0%      Default |\n",
            "+-------------------------------+----------------------+----------------------+\n",
            "                                                                               \n",
            "+-----------------------------------------------------------------------------+\n",
            "| Processes:                                                       GPU Memory |\n",
            "|  GPU       PID   Type   Process name                             Usage      |\n",
            "|=============================================================================|\n",
            "|  No running processes found                                                 |\n",
            "+-----------------------------------------------------------------------------+\n"
          ],
          "name": "stdout"
        }
      ]
    },
    {
      "cell_type": "code",
      "metadata": {
        "id": "fPM2ExLGTlP1",
        "colab_type": "code",
        "outputId": "822d04e2-cabc-4acc-e026-dcd8b0aaa425",
        "colab": {
          "base_uri": "https://localhost:8080/",
          "height": 118
        }
      },
      "source": [
        "from google.colab import drive\n",
        "drive.mount('/content/drive')"
      ],
      "execution_count": 0,
      "outputs": [
        {
          "output_type": "stream",
          "text": [
            "Go to this URL in a browser: https://accounts.google.com/o/oauth2/auth?client_id=947318989803-6bn6qk8qdgf4n4g3pfee6491hc0brc4i.apps.googleusercontent.com&redirect_uri=urn%3aietf%3awg%3aoauth%3a2.0%3aoob&response_type=code&scope=email%20https%3a%2f%2fwww.googleapis.com%2fauth%2fdocs.test%20https%3a%2f%2fwww.googleapis.com%2fauth%2fdrive%20https%3a%2f%2fwww.googleapis.com%2fauth%2fdrive.photos.readonly%20https%3a%2f%2fwww.googleapis.com%2fauth%2fpeopleapi.readonly\n",
            "\n",
            "Enter your authorization code:\n",
            "··········\n",
            "Mounted at /content/drive\n"
          ],
          "name": "stdout"
        }
      ]
    },
    {
      "cell_type": "code",
      "metadata": {
        "id": "j40zh3SnPw7G",
        "colab_type": "code",
        "colab": {}
      },
      "source": [
        "import torch\n",
        "import torch.nn as nn\n",
        "import torch.optim as optim\n",
        "from torch.optim import lr_scheduler\n",
        "import numpy as np\n",
        "import torchvision\n",
        "from torchvision import datasets, models, transforms\n",
        "import matplotlib.pyplot as plt\n",
        "import os"
      ],
      "execution_count": 0,
      "outputs": []
    },
    {
      "cell_type": "code",
      "metadata": {
        "id": "iG6HkV-SU8_9",
        "colab_type": "code",
        "colab": {}
      },
      "source": [
        "import torch\n",
        "import torch.nn as nn\n",
        "import torch.optim as optim\n",
        "from torch.optim import lr_scheduler\n",
        "import numpy as np\n",
        "import torchvision\n",
        "from torchvision import datasets, models, transforms\n",
        "import matplotlib.pyplot as plt\n",
        "import os\n",
        "\n",
        "image_transformed_crops = 384\n",
        "# Data augmentation and normalization for training\n",
        "# Just normalization for validation & test\n",
        "data_transforms = {\n",
        "    'train': transforms.Compose([\n",
        "        transforms.Resize(image_transformed_crops),\n",
        "        transforms.RandomHorizontalFlip(),\n",
        "        transforms.ToTensor(),\n",
        "        transforms.Normalize([0.485, 0.456, 0.406], [0.229, 0.224, 0.225])\n",
        "    ]),\n",
        "    'test': transforms.Compose([\n",
        "        transforms.Resize(image_transformed_crops),\n",
        "        transforms.ToTensor(),\n",
        "        transforms.Normalize([0.485, 0.456, 0.406], [0.229, 0.224, 0.225])\n",
        "    ])\n",
        "}\n",
        "\n",
        "data_dir = \"/content/drive/My Drive/FYP-Datasets/preprocessed/cleaned-set\"\n",
        "\n",
        "image_datasets = {x: datasets.ImageFolder(os.path.join(data_dir, x),\n",
        "                                          data_transforms[x])\n",
        "                  for x in ['train', 'test']}\n",
        "\n",
        "dataloaders = {x: torch.utils.data.DataLoader(image_datasets[x], batch_size=32,\n",
        "                                             shuffle=True, num_workers=4)\n",
        "              for x in ['train', 'test']}\n",
        "\n",
        "dataset_sizes = {x: len(image_datasets[x]) for x in ['train', 'test']}\n",
        "classes = image_datasets['train'].classes\n"
      ],
      "execution_count": 0,
      "outputs": []
    },
    {
      "cell_type": "markdown",
      "metadata": {
        "id": "y9WPWtrkZaUY",
        "colab_type": "text"
      },
      "source": [
        "# Display images"
      ]
    },
    {
      "cell_type": "code",
      "metadata": {
        "id": "LOInDc0XUXAo",
        "colab_type": "code",
        "colab": {}
      },
      "source": [
        "import numpy as np\n",
        "import matplotlib.pyplot as plt\n",
        "# functions to show an image\n",
        "\n",
        "\n",
        "def imshow(img):\n",
        "    img = img / 2 + 0.5     # unnormalize\n",
        "    npimg = img.numpy()\n",
        "    plt.imshow(np.transpose(npimg, (1, 2, 0)))\n",
        "    plt.show()\n",
        "\n",
        "\n",
        "# get some random training images\n",
        "dataiter = iter(dataloaders['train'])\n",
        "images, labels = dataiter.next()\n",
        "\n",
        "# show images\n",
        "imshow(torchvision.utils.make_grid(images))\n",
        "# print labels\n",
        "print(' '.join('%5s' % classes[labels[j]] for j in range(4)))"
      ],
      "execution_count": 0,
      "outputs": []
    },
    {
      "cell_type": "markdown",
      "metadata": {
        "id": "Dmy9Hpt8FTGg",
        "colab_type": "text"
      },
      "source": [
        "# LilLuluNet\n",
        "\n",
        "This neural network has a tendency to be the batch rep of the dataset. Proceed with extreme caution. These are few characteristics of the Network\n",
        "\n",
        "1. Greedy Algorithm - AKA Lil Greedo\n",
        "2. Chracterised by the being noisy\n",
        "3. The network is remarkably thin, but still acts like a strong one\n",
        "4. The network learns fast\n",
        "5. The OPtimizers are of no use here\n",
        "6. Smelly farts\n",
        "7. Wins chocolates\n",
        "8. "
      ]
    },
    {
      "cell_type": "markdown",
      "metadata": {
        "id": "kaPB42QQYiLr",
        "colab_type": "text"
      },
      "source": [
        "## Tiny model"
      ]
    },
    {
      "cell_type": "code",
      "metadata": {
        "id": "8RlYMBslYhz1",
        "colab_type": "code",
        "colab": {}
      },
      "source": [
        "import torch\n",
        "import torch.nn as nn\n",
        "import torch.nn.functional as F\n",
        "\n",
        "class CustomModel(nn.Module):\n",
        "  def __init__(self, num_classes):\n",
        "    super(CustomModel, self).__init__()\n",
        "    self.conv1 = nn.Conv2d(3, 8, 3, padding=1)\n",
        "    self.conv2 = nn.Conv2d(8, 16, 3, padding=1)\n",
        "    self.conv3 = nn.Conv2d(16, 32, 3, padding=1)\n",
        "    self.conv4 = nn.Conv2d(32, 64, 3, padding=1)\n",
        "    self.pool = nn.MaxPool2d(2, 2)\n",
        "    self.norm1 = nn.BatchNorm2d(3)\n",
        "    self.norm2 = nn.BatchNorm2d(8)\n",
        "    self.norm3 = nn.BatchNorm2d(16)\n",
        "    self.norm4 = nn.BatchNorm2d(32)\n",
        "    self.fc1 = nn.Linear(64* 24* 24, 128)\n",
        "\n",
        "    self.fc2 = nn.Linear(132, 64)\n",
        "\n",
        "    self.fc3 = nn.Linear(64, num_classes)\n",
        "\n",
        "  def forward(self, img, data):\n",
        "    img = self.pool(self.conv1(F.relu(self.norm1(img))))\n",
        "    img = self.pool(self.conv2(F.relu(self.norm2(img))))\n",
        "    img = self.pool(self.conv3(F.relu(self.norm3(img))))\n",
        "    img = self.pool(self.conv4(F.relu(self.norm4(img))))\n",
        "    # print(img.shape)\n",
        "    img = img.view(img.size(0), -1)\n",
        "    img = F.relu(self.fc1(img))\n",
        "    out = torch.cat((img, data), 1)\n",
        "    out = F.relu(self.fc2(out))\n",
        "    out = self.fc3(out)\n",
        "    return out"
      ],
      "execution_count": 0,
      "outputs": []
    },
    {
      "cell_type": "markdown",
      "metadata": {
        "id": "G_2brGrbgh2L",
        "colab_type": "text"
      },
      "source": [
        "## Small model"
      ]
    },
    {
      "cell_type": "code",
      "metadata": {
        "id": "D7Gb6RLNgoI-",
        "colab_type": "code",
        "colab": {}
      },
      "source": [
        "import torch.nn as nn\n",
        "import torch.nn.functional as F\n",
        "\n",
        "class CustomModel(nn.Module):\n",
        "    def __init__(self, num_classes):\n",
        "        super(CustomModel, self).__init__()\n",
        "        self.conv0 = nn.Conv2d(3, 32, kernel_size=5, padding=2)\n",
        "        self.norm0 = nn.BatchNorm2d(32)\n",
        "        self.conv1 = nn.Conv2d(32, 48, kernel_size=3, padding=1)\n",
        "        self.norm1 = nn.BatchNorm2d(48)\n",
        "        self.conv2 = nn.Conv2d(48, 64, kernel_size=3, padding=1)\n",
        "        self.norm2 = nn.BatchNorm2d(64)\n",
        "        \n",
        "        self.conv3 = nn.Conv2d(64, 48, kernel_size=3, padding=1)\n",
        "        self.conv4 = nn.Conv2d(48, 32, kernel_size=3, padding=1)\n",
        "\n",
        "        self.pool = nn.MaxPool2d(2, 2)\n",
        "\n",
        "        self.fc1 = nn.Linear(24* 24* 32, 128)\n",
        "        self.fc2 = nn.Linear(128, 64)\n",
        "        self.fc3 = nn.Linear(64, num_classes)\n",
        "        self.softmax = nn.Softmax(dim=1)\n",
        "\n",
        "    def forward(self, x):\n",
        "        x = self.norm0(F.relu(self.conv0(x)))\n",
        "        x = self.pool(self.norm1(F.relu(self.conv1(x))))\n",
        "        x = self.pool(self.norm2(F.relu(self.conv2(x))))\n",
        "        x = self.pool(self.norm1(F.relu(self.conv3(x))))\n",
        "        x = self.pool(self.norm0(F.relu(self.conv4(x))))\n",
        "        x = x.view(x.size(0), -1)\n",
        "        x = F.relu(self.fc1(x))\n",
        "        x = F.relu(self.fc2(x))\n",
        "        x = self.fc3(x)\n",
        "        x = F.softmax(x)\n",
        "        return x"
      ],
      "execution_count": 0,
      "outputs": []
    },
    {
      "cell_type": "markdown",
      "metadata": {
        "id": "VU-CFGouZ0rX",
        "colab_type": "text"
      },
      "source": [
        "## Medium model"
      ]
    },
    {
      "cell_type": "code",
      "metadata": {
        "id": "TZKar3XnYS5P",
        "colab_type": "code",
        "colab": {}
      },
      "source": [
        "import torch\n",
        "import torch.nn as nn\n",
        "\n",
        "class CustomModelUnit(torch.nn.Module):\n",
        "  def __init__(self, current_depth, new_depth):\n",
        "    super(CustomModelUnit, self).__init__()\n",
        "    self.norm1 = nn.BatchNorm2d(current_depth)\n",
        "    self.conv1 = nn.Conv2d(current_depth, new_depth, kernel_size=3, stride=1, padding=1)\n",
        "    self.relu1 = nn.ReLU(inplace=True)\n",
        "\n",
        "  def forward(self, x):\n",
        "    out = self.norm1(x)\n",
        "    out = self.conv1(out)\n",
        "    out = self.relu1(out)\n",
        "    return out\n",
        "\n",
        "class CustomModel(torch.nn.Module):\n",
        "  def __init__(self, num_classes, num_units=8, in_depth=32):\n",
        "    super(CustomModel, self).__init__()\n",
        "    self.conv0 = nn.Conv2d(3, in_depth, kernel_size=5, stride=1, padding=2)\n",
        "    self.relu0 = nn.ReLU(inplace=True)\n",
        "    self.norm0 = nn.BatchNorm2d(in_depth)\n",
        "\n",
        "    unitDepth = in_depth\n",
        "    self.layers = nn.Sequential()\n",
        "\n",
        "    part = int(num_units/4)\n",
        "\n",
        "    for i in range(part):\n",
        "      self.layers.add_module('layer%d' % (i + 1), CustomModelUnit(current_depth=unitDepth, new_depth=(unitDepth+in_depth)))\n",
        "      unitDepth = unitDepth + in_depth\n",
        "\n",
        "    self.layers.add_module('pool', nn.MaxPool2d(kernel_size=2, stride=2))\n",
        "\n",
        "    for i in range(part):\n",
        "      self.layers.add_module('layer%d' % (i + 1 + part), CustomModelUnit(current_depth=unitDepth, new_depth=(unitDepth-in_depth)))\n",
        "      unitDepth = unitDepth - in_depth\n",
        "\n",
        "    self.layers.add_module('pool', nn.MaxPool2d(kernel_size=2, stride=2))\n",
        "\n",
        "    for i in range(part):\n",
        "      self.layers.add_module('layer%d' % (i + 1 + (part*2)), CustomModelUnit(current_depth=unitDepth, new_depth=(unitDepth+in_depth)))\n",
        "      unitDepth = unitDepth + in_depth\n",
        "\n",
        "    self.layers.add_module('pool', nn.MaxPool2d(kernel_size=2, stride=2))\n",
        "\n",
        "    for i in range(part):\n",
        "      self.layers.add_module('layer%d' % (i + 1 + (part*3)), CustomModelUnit(current_depth=unitDepth, new_depth=(unitDepth-in_depth)))\n",
        "      unitDepth = unitDepth - in_depth\n",
        "    \n",
        "    self.linear = nn.Linear(num_units*in_depth, num_classes)\n",
        "    self.softmax = nn.Softmax(dim=1)\n",
        "\n",
        "  def forward(self, x):\n",
        "    out = self.conv0(x)\n",
        "    out = self.relu0(out)\n",
        "    out = self.norm0(out)\n",
        "    out = self.layers(out)\n",
        "    out = torch.flatten(out, 1)\n",
        "    out = self.linear(out)\n",
        "    out = self.softmax(out)\n",
        "    return out"
      ],
      "execution_count": 0,
      "outputs": []
    },
    {
      "cell_type": "markdown",
      "metadata": {
        "id": "jaOtOgv0Z30W",
        "colab_type": "text"
      },
      "source": [
        "## Big model"
      ]
    },
    {
      "cell_type": "code",
      "metadata": {
        "id": "tMM7vzy8MqJs",
        "colab_type": "code",
        "colab": {}
      },
      "source": [
        "import torch\n",
        "import torch.nn as nn\n",
        "\n",
        "class CustomModelUnit(torch.nn.Module):\n",
        "  def __init__(self, current_depth, new_depth):\n",
        "    super(CustomModelUnit, self).__init__()\n",
        "    self.norm = nn.BatchNorm2d(current_depth)\n",
        "    self.relu = nn.ReLU(inplace=True)\n",
        "    self.conv = nn.Conv2d(current_depth, new_depth, kernel_size=3, stride=1, padding=1)\n",
        "\n",
        "  def forward(self, x):\n",
        "    out = self.conv(self.relu(self.norm(x)))\n",
        "    return out\n",
        "\n",
        "class CustomEnlargeUnit(torch.nn.Module):\n",
        "  def __init__(self, current_depth, new_depth):\n",
        "    super(CustomEnlargeUnit, self).__init__()\n",
        "    self.ennorm = nn.BatchNorm2d(current_depth)\n",
        "    self.enrelu = nn.ReLU(inplace=True)\n",
        "    self.enconv = nn.Conv2d(current_depth, new_depth, kernel_size=5, stride=1, padding=2)\n",
        "\n",
        "  def forward(self, x):\n",
        "    out = self.enconv(self.enrelu(self.ennorm(x)))\n",
        "    return out\n",
        "\n",
        "class CustomModelLayer(torch.nn.ModuleDict):\n",
        "  def __init__(self, num_units, in_depth, next_depth, enlarge):\n",
        "    super(CustomModelLayer, self).__init__()\n",
        "    for j in range(num_units):\n",
        "      self.add_module('unit%d' % (j + 1), CustomModelUnit(current_depth=in_depth, new_depth=in_depth))\n",
        "\n",
        "    if enlarge:\n",
        "      self.add_module('enlarge', CustomEnlargeUnit(current_depth=in_depth, new_depth=next_depth))\n",
        "\n",
        "  def forward(self, x):\n",
        "    out = x\n",
        "    for name, layer in self.items():\n",
        "      out = layer(out)\n",
        "    return out\n",
        "\n",
        "class CustomModel(torch.nn.Module):\n",
        "  def __init__(self, num_classes, num_layers=3, num_units=4, in_depth=16):\n",
        "    super(CustomModel, self).__init__()\n",
        "    self.conv0 = nn.Conv2d(3, in_depth, kernel_size=5, stride=1, padding=2)\n",
        "    self.relu0 = nn.ReLU(inplace=True)\n",
        "    self.norm0 = nn.BatchNorm2d(in_depth)\n",
        "    self.pool0 = nn.MaxPool2d(kernel_size=2, stride=2)\n",
        "    self.layers = nn.Sequential()\n",
        "    previous_depth = in_depth\n",
        "    for i in range(num_layers):\n",
        "      next_depth = in_depth * (2**(i+1))\n",
        "      self.layers.add_module('layer%d' % (i + 1), CustomModelLayer(num_units=num_units, in_depth=previous_depth, next_depth=next_depth, enlarge=(i<(num_layers-1))))\n",
        "      previous_depth = next_depth\n",
        "      self.layers.add_module('pool%d' % (i+1), nn.MaxPool2d(kernel_size=2, stride=2))\n",
        "    self.linear1 = nn.Linear(64*16*16, 2048)\n",
        "    self.linear2 = nn.Linear(2048, 512)\n",
        "    self.classifier = nn.Linear(512, num_classes)\n",
        "\n",
        "  def forward(self, x):\n",
        "    out = self.pool0(self.norm0(self.relu0(self.conv0(x))))\n",
        "    out = self.layers(out)\n",
        "    # print(out.shape)\n",
        "    out = out.view(out.size(0), -1)\n",
        "    out = self.classifier(self.linear2(self.linear1(out)))\n",
        "    return out"
      ],
      "execution_count": 0,
      "outputs": []
    },
    {
      "cell_type": "markdown",
      "metadata": {
        "id": "fnqwxoGsqnI5",
        "colab_type": "text"
      },
      "source": [
        "## ResNet"
      ]
    },
    {
      "cell_type": "code",
      "metadata": {
        "id": "km7utMzMqr-I",
        "colab_type": "code",
        "colab": {}
      },
      "source": [
        "import torch\n",
        "import torch.nn as nn\n",
        "import torch.nn.functional as F\n",
        "\n",
        "\n",
        "def conv5x5(in_planes, out_planes, stride=1, groups=1, dilation=1):\n",
        "    \"\"\"5x5 convolution with padding\"\"\"\n",
        "    return nn.Conv2d(in_planes, out_planes, kernel_size=5, stride=stride,\n",
        "                     padding=2, groups=groups, bias=False, dilation=dilation)\n",
        "    \n",
        "def conv3x3(in_planes, out_planes, stride=1, groups=1, dilation=1):\n",
        "    \"\"\"3x3 convolution with padding\"\"\"\n",
        "    return nn.Conv2d(in_planes, out_planes, kernel_size=3, stride=stride,\n",
        "                     padding=dilation, groups=groups, bias=False, dilation=dilation)\n",
        "\n",
        "\n",
        "def conv1x1(in_planes, out_planes, stride=1):\n",
        "    \"\"\"1x1 convolution\"\"\"\n",
        "    return nn.Conv2d(in_planes, out_planes, kernel_size=1, stride=stride, bias=False)\n",
        "\n",
        "\n",
        "\n",
        "class Bottleneck(nn.Module):\n",
        "    expansion = 4\n",
        "\n",
        "    def __init__(self, inplanes, planes, stride=1, downsample=None, groups=1,\n",
        "                 base_width=16, dilation=1, norm_layer=None):\n",
        "        super(Bottleneck, self).__init__()\n",
        "        if norm_layer is None:\n",
        "            norm_layer = nn.BatchNorm2d\n",
        "        width = int(planes * (base_width / 16.)) * groups\n",
        "        # Both self.conv2 and self.downsample layers downsample the input when stride != 1\n",
        "        self.conv1 = conv5x5(inplanes, width)\n",
        "        self.bn1 = norm_layer(width)\n",
        "        self.conv2 = conv3x3(width, width, stride, groups, dilation)\n",
        "        self.bn2 = norm_layer(width)\n",
        "        self.conv3 = conv1x1(width, planes * self.expansion)\n",
        "        self.bn3 = norm_layer(planes * self.expansion)\n",
        "        self.relu = nn.ReLU(inplace=True)\n",
        "        self.downsample = downsample\n",
        "        self.stride = stride\n",
        "\n",
        "    def forward(self, x):\n",
        "        identity = x\n",
        "\n",
        "        out = self.relu(self.bn1(self.conv1(x)))\n",
        "\n",
        "        out = self.relu(self.bn2(self.conv2(out)))\n",
        "        \n",
        "        out = self.bn3(self.conv3(out))\n",
        "\n",
        "        if self.downsample is not None:\n",
        "            identity = self.downsample(x)\n",
        "\n",
        "        out += identity\n",
        "        out = self.relu(out)\n",
        "\n",
        "        return out\n",
        "\n",
        "\n",
        "class ResNet(nn.Module):\n",
        "\n",
        "    def __init__(self, block, layers, num_classes=1000, zero_init_residual=False,\n",
        "                 groups=1, width_per_group=16):\n",
        "        super(ResNet, self).__init__()\n",
        "        \n",
        "        norm_layer = nn.BatchNorm2d\n",
        "        self._norm_layer = norm_layer\n",
        "\n",
        "        self.inplanes = 16\n",
        "        self.dilation = 1\n",
        "        \n",
        "        replace_stride_with_dilation = [False, True, False]\n",
        "\n",
        "        self.groups = groups\n",
        "        self.base_width = width_per_group\n",
        "        self.conv1 = nn.Conv2d(3, self.inplanes, kernel_size=7, stride=2, padding=3,\n",
        "                               bias=False)\n",
        "        self.bn1 = norm_layer(self.inplanes)\n",
        "        self.relu = nn.ReLU(inplace=True)\n",
        "        self.maxpool = nn.MaxPool2d(kernel_size=2, stride=2)\n",
        "        self.layer1 = self._make_layer(block, 16, layers[0])\n",
        "        self.layer2 = self._make_layer(block, 32, layers[1], stride=2,\n",
        "                                       dilate=replace_stride_with_dilation[0])\n",
        "        self.layer3 = self._make_layer(block, 64, layers[2], stride=2,\n",
        "                                       dilate=replace_stride_with_dilation[1])\n",
        "        self.layer4 = self._make_layer(block, 128, layers[3], stride=2,\n",
        "                                       dilate=replace_stride_with_dilation[2])\n",
        "        self.avgpool = nn.AdaptiveAvgPool2d((1, 1))\n",
        "        self.fc = nn.Linear(128 * block.expansion, num_classes)\n",
        "\n",
        "        for m in self.modules():\n",
        "            if isinstance(m, nn.Conv2d):\n",
        "                nn.init.kaiming_normal_(m.weight, mode='fan_out', nonlinearity='relu')\n",
        "            elif isinstance(m, (nn.BatchNorm2d, nn.GroupNorm)):\n",
        "                nn.init.constant_(m.weight, 1)\n",
        "                nn.init.constant_(m.bias, 0)\n",
        "\n",
        "        # Zero-initialize the last BN in each residual branch,\n",
        "        # so that the residual branch starts with zeros, and each residual block behaves like an identity.\n",
        "        # This improves the model by 0.2~0.3% according to https://arxiv.org/abs/1706.02677\n",
        "        if zero_init_residual:\n",
        "            for m in self.modules():\n",
        "                if isinstance(m, Bottleneck):\n",
        "                    nn.init.constant_(m.bn3.weight, 0)\n",
        "                elif isinstance(m, BasicBlock):\n",
        "                    nn.init.constant_(m.bn2.weight, 0)\n",
        "\n",
        "    def _make_layer(self, block, planes, blocks, stride=1, dilate=False):\n",
        "        norm_layer = self._norm_layer\n",
        "        downsample = None\n",
        "        previous_dilation = self.dilation\n",
        "        if dilate:\n",
        "            self.dilation *= stride\n",
        "            stride = 1\n",
        "        if stride != 1 or self.inplanes != planes * block.expansion:\n",
        "            downsample = nn.Sequential(\n",
        "                conv1x1(self.inplanes, planes * block.expansion, stride),\n",
        "                norm_layer(planes * block.expansion),\n",
        "            )\n",
        "\n",
        "        layers = []\n",
        "        layers.append(block(self.inplanes, planes, stride, downsample, self.groups,\n",
        "                            self.base_width, previous_dilation, norm_layer))\n",
        "        self.inplanes = planes * block.expansion\n",
        "        for _ in range(1, blocks):\n",
        "            layers.append(block(self.inplanes, planes, groups=self.groups,\n",
        "                                base_width=self.base_width, dilation=self.dilation,\n",
        "                                norm_layer=norm_layer))\n",
        "\n",
        "        return nn.Sequential(*layers)\n",
        "        \n",
        "\n",
        "    def forward(self, x):\n",
        "        x = self.maxpool(self.relu(self.bn1(self.conv1(x))))\n",
        "\n",
        "        x = self.layer1(x)\n",
        "        x = self.layer2(x)\n",
        "        x = self.layer3(x)\n",
        "        x = self.layer4(x)\n",
        "\n",
        "        x = self.avgpool(x)\n",
        "        x = torch.flatten(x, 1)\n",
        "        x = self.fc(x)\n",
        "        x = F.softmax(x, dim=1)\n",
        "\n",
        "        return x\n",
        "\n",
        "\n",
        "\n",
        "\n",
        "def resnet_model(num_classes):\n",
        "  model = ResNet(Bottleneck, [3, 4, 6, 3], num_classes=num_classes)\n",
        "  return model"
      ],
      "execution_count": 0,
      "outputs": []
    },
    {
      "cell_type": "code",
      "metadata": {
        "id": "AF26jvi0q3Co",
        "colab_type": "code",
        "colab": {}
      },
      "source": [
        "res_model = resnet_model(len(classes))\n",
        "print(res_model)"
      ],
      "execution_count": 0,
      "outputs": []
    },
    {
      "cell_type": "markdown",
      "metadata": {
        "id": "53ljD8XzZ6a2",
        "colab_type": "text"
      },
      "source": [
        "## Usage"
      ]
    },
    {
      "cell_type": "code",
      "metadata": {
        "id": "mBeCP-hUNmzF",
        "colab_type": "code",
        "outputId": "36ae81c8-8bb0-4529-a10c-cc6aea4e86b9",
        "colab": {
          "base_uri": "https://localhost:8080/",
          "height": 748
        }
      },
      "source": [
        "model_state_path = \"/content/drive/My Drive/FYP-Datasets/models/resnet/vgg_test_state.pth\"\n",
        "device = torch.device(\"cuda:0\" if torch.cuda.is_available() else \"cpu\")\n",
        "# model = CustomModel(len(classes))\n",
        "model = models.vgg16(num_classes=5)\n",
        "model.cuda()"
      ],
      "execution_count": 0,
      "outputs": [
        {
          "output_type": "execute_result",
          "data": {
            "text/plain": [
              "VGG(\n",
              "  (features): Sequential(\n",
              "    (0): Conv2d(3, 64, kernel_size=(3, 3), stride=(1, 1), padding=(1, 1))\n",
              "    (1): ReLU(inplace=True)\n",
              "    (2): Conv2d(64, 64, kernel_size=(3, 3), stride=(1, 1), padding=(1, 1))\n",
              "    (3): ReLU(inplace=True)\n",
              "    (4): MaxPool2d(kernel_size=2, stride=2, padding=0, dilation=1, ceil_mode=False)\n",
              "    (5): Conv2d(64, 128, kernel_size=(3, 3), stride=(1, 1), padding=(1, 1))\n",
              "    (6): ReLU(inplace=True)\n",
              "    (7): Conv2d(128, 128, kernel_size=(3, 3), stride=(1, 1), padding=(1, 1))\n",
              "    (8): ReLU(inplace=True)\n",
              "    (9): MaxPool2d(kernel_size=2, stride=2, padding=0, dilation=1, ceil_mode=False)\n",
              "    (10): Conv2d(128, 256, kernel_size=(3, 3), stride=(1, 1), padding=(1, 1))\n",
              "    (11): ReLU(inplace=True)\n",
              "    (12): Conv2d(256, 256, kernel_size=(3, 3), stride=(1, 1), padding=(1, 1))\n",
              "    (13): ReLU(inplace=True)\n",
              "    (14): Conv2d(256, 256, kernel_size=(3, 3), stride=(1, 1), padding=(1, 1))\n",
              "    (15): ReLU(inplace=True)\n",
              "    (16): MaxPool2d(kernel_size=2, stride=2, padding=0, dilation=1, ceil_mode=False)\n",
              "    (17): Conv2d(256, 512, kernel_size=(3, 3), stride=(1, 1), padding=(1, 1))\n",
              "    (18): ReLU(inplace=True)\n",
              "    (19): Conv2d(512, 512, kernel_size=(3, 3), stride=(1, 1), padding=(1, 1))\n",
              "    (20): ReLU(inplace=True)\n",
              "    (21): Conv2d(512, 512, kernel_size=(3, 3), stride=(1, 1), padding=(1, 1))\n",
              "    (22): ReLU(inplace=True)\n",
              "    (23): MaxPool2d(kernel_size=2, stride=2, padding=0, dilation=1, ceil_mode=False)\n",
              "    (24): Conv2d(512, 512, kernel_size=(3, 3), stride=(1, 1), padding=(1, 1))\n",
              "    (25): ReLU(inplace=True)\n",
              "    (26): Conv2d(512, 512, kernel_size=(3, 3), stride=(1, 1), padding=(1, 1))\n",
              "    (27): ReLU(inplace=True)\n",
              "    (28): Conv2d(512, 512, kernel_size=(3, 3), stride=(1, 1), padding=(1, 1))\n",
              "    (29): ReLU(inplace=True)\n",
              "    (30): MaxPool2d(kernel_size=2, stride=2, padding=0, dilation=1, ceil_mode=False)\n",
              "  )\n",
              "  (avgpool): AdaptiveAvgPool2d(output_size=(7, 7))\n",
              "  (classifier): Sequential(\n",
              "    (0): Linear(in_features=25088, out_features=4096, bias=True)\n",
              "    (1): ReLU(inplace=True)\n",
              "    (2): Dropout(p=0.5, inplace=False)\n",
              "    (3): Linear(in_features=4096, out_features=4096, bias=True)\n",
              "    (4): ReLU(inplace=True)\n",
              "    (5): Dropout(p=0.5, inplace=False)\n",
              "    (6): Linear(in_features=4096, out_features=5, bias=True)\n",
              "  )\n",
              ")"
            ]
          },
          "metadata": {
            "tags": []
          },
          "execution_count": 5
        }
      ]
    },
    {
      "cell_type": "code",
      "metadata": {
        "id": "KHmDGuS0UkZz",
        "colab_type": "code",
        "colab": {}
      },
      "source": [
        "import torch.optim as optim\n",
        "from torch.optim import lr_scheduler\n",
        "\n",
        "criterion = nn.CrossEntropyLoss()\n",
        "# optimizer = optim.SGD(model.parameters(), lr=0.01, momentum=0.9)\n",
        "optimizer = optim.Adam(model.parameters(), lr = 0.001)\n",
        "\n",
        "# Decay LR by a factor of 0.1 every 7 epochs\n",
        "scheduler = lr_scheduler.StepLR(optimizer, step_size=7, gamma=0.1) \n",
        "\n",
        "train_acc_values=[]\n"
      ],
      "execution_count": 0,
      "outputs": []
    },
    {
      "cell_type": "code",
      "metadata": {
        "id": "4GNOWWzSshG3",
        "colab_type": "code",
        "outputId": "cd7d5599-8a70-48e7-e679-708a826ac259",
        "colab": {
          "base_uri": "https://localhost:8080/",
          "height": 34
        }
      },
      "source": [
        "len(dataloaders['train'])"
      ],
      "execution_count": 0,
      "outputs": [
        {
          "output_type": "execute_result",
          "data": {
            "text/plain": [
              "556"
            ]
          },
          "metadata": {
            "tags": []
          },
          "execution_count": 11
        }
      ]
    },
    {
      "cell_type": "markdown",
      "metadata": {
        "id": "nKXebBLtmAzi",
        "colab_type": "text"
      },
      "source": [
        "## Load state"
      ]
    },
    {
      "cell_type": "code",
      "metadata": {
        "id": "daYdHHQUF4gQ",
        "colab_type": "code",
        "outputId": "298eb23e-be9d-4645-908d-ebd10cb3dc95",
        "colab": {
          "base_uri": "https://localhost:8080/",
          "height": 33
        }
      },
      "source": [
        "state = torch.load(model_state_path)\n",
        "\n",
        "model.load_state_dict(state[\"model\"])\n",
        "\n",
        "# optimizer.load_state_dict(state[\"optimizer\"])\n",
        "\n",
        "# scheduler.load_state_dict(state[\"scheduler\"])\n",
        "\n",
        "# train_acc_values = state[\"train_test_val\"]\n",
        "\n",
        "# print(train_acc_values)"
      ],
      "execution_count": 0,
      "outputs": [
        {
          "output_type": "execute_result",
          "data": {
            "text/plain": [
              "<All keys matched successfully>"
            ]
          },
          "metadata": {
            "tags": []
          },
          "execution_count": 6
        }
      ]
    },
    {
      "cell_type": "markdown",
      "metadata": {
        "id": "XzLbQ0Y_l-fu",
        "colab_type": "text"
      },
      "source": [
        "## Generate values"
      ]
    },
    {
      "cell_type": "code",
      "metadata": {
        "id": "p2XsZbt2bz3E",
        "colab_type": "code",
        "colab": {}
      },
      "source": [
        "import random\n",
        "import numpy as np\n",
        "import torch\n",
        "\n",
        "valueBounds = [\n",
        "    {\n",
        "        \"latUpper\": 9.131389578912426,\n",
        "        \"latLower\": 8.746282083786772,\n",
        "        \"lngUpper\": 80.80029159942133,\n",
        "        \"lngLower\": 80.33131271758539,\n",
        "        \"hourUpper\": 15,\n",
        "        \"hourLower\": 13,\n",
        "    },\n",
        "    {\n",
        "        \"latUpper\": 7.01828146856506,\n",
        "        \"latLower\": 6.8247806330110565,\n",
        "        \"lngUpper\": 80.08223722638462,\n",
        "        \"lngLower\": 79.84774778546665,\n",
        "        \"hourUpper\": 18,\n",
        "        \"hourLower\": 16,\n",
        "    },\n",
        "    {\n",
        "        \"latUpper\": 7.653309620021503,\n",
        "        \"latLower\": 7.460081072027894,\n",
        "        \"lngUpper\": 81.30038869668704,\n",
        "        \"lngLower\": 81.06589925576907,\n",
        "        \"hourUpper\": 9,\n",
        "        \"hourLower\": 7,\n",
        "    },\n",
        "    {\n",
        "        \"latUpper\": 6.474375436597032,\n",
        "        \"latLower\": 6.2806602933845985,\n",
        "        \"lngUpper\": 81.13958565154788,\n",
        "        \"lngLower\": 80.9050962106299,\n",
        "        \"hourUpper\": 12,\n",
        "        \"hourLower\": 10,\n",
        "    },\n",
        "    {\n",
        "        \"latUpper\": 7.922726768561008,\n",
        "        \"latLower\": 7.536426691527857,\n",
        "        \"lngUpper\": 80.54560428814645,\n",
        "        \"lngLower\": 80.07662540631051,\n",
        "        \"hourUpper\": 22,\n",
        "        \"hourLower\": 20,\n",
        "    }\n",
        "]\n",
        "\n",
        "def getRandomVal(upperBound, lowerBound, decimals):\n",
        "  return round(random.uniform(lowerBound, upperBound), decimals)\n",
        "\n",
        "def getRandomInt(upperBound, lowerBound):\n",
        "  return random.randrange(lowerBound, upperBound)\n",
        "\n",
        "def getLat(label):\n",
        "  return getRandomVal(valueBounds[label]['latUpper'], valueBounds[label]['latLower'], 6)\n",
        "\n",
        "def getLng(label):\n",
        "  return getRandomVal(valueBounds[label]['lngUpper'], valueBounds[label]['lngLower'], 6)\n",
        "\n",
        "def getHour(label):\n",
        "  return getRandomInt(valueBounds[label]['hourUpper'], valueBounds[label]['hourLower'])\n",
        "\n",
        "\n",
        "def generateValues(labels):\n",
        "  values = []\n",
        "  for x in range(len(labels)):\n",
        "    label = labels[x]\n",
        "    lat = getLat(label)\n",
        "    lng = getLng(label)\n",
        "    hour = getHour(label)\n",
        "    minu = getRandomInt(59, 0)\n",
        "\n",
        "    values.append([lat, lng, hour, minu])\n",
        "  \n",
        "  return np.array(values)"
      ],
      "execution_count": 0,
      "outputs": []
    },
    {
      "cell_type": "markdown",
      "metadata": {
        "id": "CCn9u3R1W58m",
        "colab_type": "text"
      },
      "source": [
        "### Other stuff"
      ]
    },
    {
      "cell_type": "code",
      "metadata": {
        "id": "zevG_tvF4vpC",
        "colab_type": "code",
        "colab": {}
      },
      "source": [
        "def genRec(label):\n",
        "  lat = getLat(label)\n",
        "  lng = getLng(label)\n",
        "  hour = getHour(label)\n",
        "  minu = getRandomInt(59, 0)\n",
        "  return [lat, lng, hour, minu]\n",
        "\n",
        "def gen1000Rec():\n",
        "  all_records = []\n",
        "  for x in range(5):\n",
        "    records = []\n",
        "    for y in range(1000):\n",
        "      records.append(genRec(x))\n",
        "    \n",
        "    all_records.append(records)\n",
        "\n",
        "   return all_records \n"
      ],
      "execution_count": 0,
      "outputs": []
    },
    {
      "cell_type": "code",
      "metadata": {
        "id": "aO9bFgGk5wK6",
        "colab_type": "code",
        "colab": {}
      },
      "source": [
        "all_gen_values = gen1000Rec()\n",
        "print(len(all_gen_values))\n",
        "print(len(all_gen_values[0]))\n",
        "print(all_gen_values[0][10:])\n",
        "\n",
        "def getAllAddData(labels):\n",
        "  values = []\n",
        "  for x in range(len(labels)):\n",
        "    label = labels[x]\n",
        "    values.append(all_gen_values[label][getRandomInt(1000,0)])\n",
        "  \n",
        "  return np.array(values)"
      ],
      "execution_count": 0,
      "outputs": []
    },
    {
      "cell_type": "markdown",
      "metadata": {
        "id": "JFSAzDx9WD_g",
        "colab_type": "text"
      },
      "source": [
        "# Training"
      ]
    },
    {
      "cell_type": "code",
      "metadata": {
        "id": "csanLgl8UnmM",
        "colab_type": "code",
        "outputId": "66ba5a34-12e3-4a99-d20a-0008704e2e6e",
        "colab": {
          "base_uri": "https://localhost:8080/",
          "height": 1000
        }
      },
      "source": [
        "from tqdm import tqdm\n",
        "epochs = 30\n",
        "\n",
        "model.train()\n",
        "\n",
        "for epoch in range(epochs):  # loop over the dataset multiple times\n",
        "\n",
        "    print(\"Epoch \", str(epoch+1))\n",
        "\n",
        "    running_corrects = 0 \n",
        "    running_loss = 0.0\n",
        "    indx = 0\n",
        "    \n",
        "    for data in tqdm(dataloaders['train'],position=0,leave=True):\n",
        "\n",
        "        # get the inputs; data is a list of [inputs, labels]\n",
        "        inputs, labels = data[0].to(device), data[1].to(device)\n",
        "\n",
        "        # addData = generateValues(labels.tolist())\n",
        "        # dataTensor = torch.from_numpy(addData)\n",
        "        # dataTensor = dataTensor.to(device)\n",
        "\n",
        "        # zero the parameter gradients\n",
        "        optimizer.zero_grad()\n",
        "\n",
        "        # forward + backward + optimize\n",
        "        # outputs = model(inputs, dataTensor.float())\n",
        "        outputs = model(inputs)\n",
        "        loss = criterion(outputs, labels)\n",
        "        loss.backward()\n",
        "        optimizer.step()\n",
        "\n",
        "        _, preds = torch.max(outputs, 1)  \n",
        "\n",
        "        # print statistics\n",
        "        running_loss += loss.item()\n",
        "        running_corrects += torch.sum(preds == labels.data) \n",
        "\n",
        "        epoch_loss = running_loss / dataset_sizes['train'] \n",
        "        epoch_acc = running_corrects.double() / dataset_sizes['train']\n",
        "        \n",
        "        if indx % 139 == 0:\n",
        "          print('Loss: {:.4f} Acc: {:.4f}'.format(epoch_loss, epoch_acc))\n",
        "        indx += 1\n",
        "\n",
        "    print('Loss: {:.4f} Acc: {:.4f}'.format(epoch_loss, epoch_acc))\n",
        "    scheduler.step()\n",
        "    \n",
        "    train_value = {\n",
        "        \"loss\": epoch_loss,\n",
        "        \"accuracy\": epoch_acc\n",
        "    }\n",
        "\n",
        "    train_acc_values.append(train_value)\n",
        "\n",
        "    if (epoch+1)%2==0:\n",
        "        state = {\n",
        "            'epoch': epochs - epoch - 1,\n",
        "            'model': model.state_dict(),\n",
        "            'optimizer': optimizer.state_dict(),\n",
        "            'scheduler': scheduler.state_dict(),\n",
        "            'train_test_val': train_acc_values,\n",
        "        }\n",
        "        \n",
        "        torch.save(state, model_state_path)\n",
        "\n",
        "print(\" \")\n",
        "print('Finished Training')"
      ],
      "execution_count": 0,
      "outputs": [
        {
          "output_type": "stream",
          "text": [
            "\r  0%|          | 0/556 [00:00<?, ?it/s]"
          ],
          "name": "stderr"
        },
        {
          "output_type": "stream",
          "text": [
            "Epoch  1\n"
          ],
          "name": "stdout"
        },
        {
          "output_type": "stream",
          "text": [
            "\r  0%|          | 1/556 [00:01<18:19,  1.98s/it]"
          ],
          "name": "stderr"
        },
        {
          "output_type": "stream",
          "text": [
            "Loss: 0.0001 Acc: 0.0003\n"
          ],
          "name": "stdout"
        },
        {
          "output_type": "stream",
          "text": [
            " 25%|██▌       | 140/556 [01:48<05:18,  1.31it/s]"
          ],
          "name": "stderr"
        },
        {
          "output_type": "stream",
          "text": [
            "Loss: 0.0127 Acc: 0.0509\n"
          ],
          "name": "stdout"
        },
        {
          "output_type": "stream",
          "text": [
            " 50%|█████     | 279/556 [03:34<03:32,  1.30it/s]"
          ],
          "name": "stderr"
        },
        {
          "output_type": "stream",
          "text": [
            "Loss: 0.0252 Acc: 0.1023\n"
          ],
          "name": "stdout"
        },
        {
          "output_type": "stream",
          "text": [
            " 75%|███████▌  | 418/556 [05:21<01:45,  1.31it/s]"
          ],
          "name": "stderr"
        },
        {
          "output_type": "stream",
          "text": [
            "Loss: 0.0378 Acc: 0.1539\n"
          ],
          "name": "stdout"
        },
        {
          "output_type": "stream",
          "text": [
            "100%|██████████| 556/556 [07:07<00:00,  1.30it/s]\n",
            "  0%|          | 0/556 [00:00<?, ?it/s]"
          ],
          "name": "stderr"
        },
        {
          "output_type": "stream",
          "text": [
            "Loss: 0.0503 Acc: 0.2029\n",
            "Epoch  2\n"
          ],
          "name": "stdout"
        },
        {
          "output_type": "stream",
          "text": [
            "\r  0%|          | 1/556 [00:01<18:12,  1.97s/it]"
          ],
          "name": "stderr"
        },
        {
          "output_type": "stream",
          "text": [
            "Loss: 0.0001 Acc: 0.0004\n"
          ],
          "name": "stdout"
        },
        {
          "output_type": "stream",
          "text": [
            " 25%|██▌       | 140/556 [01:48<05:18,  1.30it/s]"
          ],
          "name": "stderr"
        },
        {
          "output_type": "stream",
          "text": [
            "Loss: 0.0127 Acc: 0.0527\n"
          ],
          "name": "stdout"
        },
        {
          "output_type": "stream",
          "text": [
            " 50%|█████     | 279/556 [03:34<03:31,  1.31it/s]"
          ],
          "name": "stderr"
        },
        {
          "output_type": "stream",
          "text": [
            "Loss: 0.0252 Acc: 0.1052\n"
          ],
          "name": "stdout"
        },
        {
          "output_type": "stream",
          "text": [
            " 75%|███████▌  | 418/556 [05:21<01:45,  1.31it/s]"
          ],
          "name": "stderr"
        },
        {
          "output_type": "stream",
          "text": [
            "Loss: 0.0378 Acc: 0.1570\n"
          ],
          "name": "stdout"
        },
        {
          "output_type": "stream",
          "text": [
            "100%|██████████| 556/556 [07:07<00:00,  1.30it/s]\n"
          ],
          "name": "stderr"
        },
        {
          "output_type": "stream",
          "text": [
            "Loss: 0.0503 Acc: 0.2070\n"
          ],
          "name": "stdout"
        },
        {
          "output_type": "stream",
          "text": [
            "\r  0%|          | 0/556 [00:00<?, ?it/s]"
          ],
          "name": "stderr"
        },
        {
          "output_type": "stream",
          "text": [
            "Epoch  3\n"
          ],
          "name": "stdout"
        },
        {
          "output_type": "stream",
          "text": [
            "\r  0%|          | 1/556 [00:02<21:40,  2.34s/it]"
          ],
          "name": "stderr"
        },
        {
          "output_type": "stream",
          "text": [
            "Loss: 0.0001 Acc: 0.0004\n"
          ],
          "name": "stdout"
        },
        {
          "output_type": "stream",
          "text": [
            " 25%|██▌       | 140/556 [01:49<05:18,  1.31it/s]"
          ],
          "name": "stderr"
        },
        {
          "output_type": "stream",
          "text": [
            "Loss: 0.0127 Acc: 0.0526\n"
          ],
          "name": "stdout"
        },
        {
          "output_type": "stream",
          "text": [
            " 50%|█████     | 279/556 [03:35<03:31,  1.31it/s]"
          ],
          "name": "stderr"
        },
        {
          "output_type": "stream",
          "text": [
            "Loss: 0.0252 Acc: 0.1045\n"
          ],
          "name": "stdout"
        },
        {
          "output_type": "stream",
          "text": [
            " 75%|███████▌  | 418/556 [05:22<01:45,  1.30it/s]"
          ],
          "name": "stderr"
        },
        {
          "output_type": "stream",
          "text": [
            "Loss: 0.0378 Acc: 0.1564\n"
          ],
          "name": "stdout"
        },
        {
          "output_type": "stream",
          "text": [
            "100%|██████████| 556/556 [07:07<00:00,  1.30it/s]\n",
            "  0%|          | 0/556 [00:00<?, ?it/s]"
          ],
          "name": "stderr"
        },
        {
          "output_type": "stream",
          "text": [
            "Loss: 0.0503 Acc: 0.2072\n",
            "Epoch  4\n"
          ],
          "name": "stdout"
        },
        {
          "output_type": "stream",
          "text": [
            "\r  0%|          | 1/556 [00:02<19:03,  2.06s/it]"
          ],
          "name": "stderr"
        },
        {
          "output_type": "stream",
          "text": [
            "Loss: 0.0001 Acc: 0.0003\n"
          ],
          "name": "stdout"
        },
        {
          "output_type": "stream",
          "text": [
            " 25%|██▌       | 140/556 [01:48<05:18,  1.31it/s]"
          ],
          "name": "stderr"
        },
        {
          "output_type": "stream",
          "text": [
            "Loss: 0.0127 Acc: 0.0491\n"
          ],
          "name": "stdout"
        },
        {
          "output_type": "stream",
          "text": [
            " 50%|█████     | 279/556 [03:34<03:32,  1.30it/s]"
          ],
          "name": "stderr"
        },
        {
          "output_type": "stream",
          "text": [
            "Loss: 0.0252 Acc: 0.1016\n"
          ],
          "name": "stdout"
        },
        {
          "output_type": "stream",
          "text": [
            " 75%|███████▌  | 418/556 [05:21<01:45,  1.31it/s]"
          ],
          "name": "stderr"
        },
        {
          "output_type": "stream",
          "text": [
            "Loss: 0.0378 Acc: 0.1522\n"
          ],
          "name": "stdout"
        },
        {
          "output_type": "stream",
          "text": [
            "100%|██████████| 556/556 [07:07<00:00,  1.30it/s]\n"
          ],
          "name": "stderr"
        },
        {
          "output_type": "stream",
          "text": [
            "Loss: 0.0503 Acc: 0.2031\n"
          ],
          "name": "stdout"
        },
        {
          "output_type": "stream",
          "text": [
            "\r  0%|          | 0/556 [00:00<?, ?it/s]"
          ],
          "name": "stderr"
        },
        {
          "output_type": "stream",
          "text": [
            "Epoch  5\n"
          ],
          "name": "stdout"
        },
        {
          "output_type": "stream",
          "text": [
            "\r  0%|          | 1/556 [00:02<25:17,  2.74s/it]"
          ],
          "name": "stderr"
        },
        {
          "output_type": "stream",
          "text": [
            "Loss: 0.0001 Acc: 0.0006\n"
          ],
          "name": "stdout"
        },
        {
          "output_type": "stream",
          "text": [
            " 25%|██▌       | 140/556 [01:49<05:18,  1.31it/s]"
          ],
          "name": "stderr"
        },
        {
          "output_type": "stream",
          "text": [
            "Loss: 0.0127 Acc: 0.0500\n"
          ],
          "name": "stdout"
        },
        {
          "output_type": "stream",
          "text": [
            " 50%|█████     | 279/556 [03:36<03:33,  1.30it/s]"
          ],
          "name": "stderr"
        },
        {
          "output_type": "stream",
          "text": [
            "Loss: 0.0252 Acc: 0.1043\n"
          ],
          "name": "stdout"
        },
        {
          "output_type": "stream",
          "text": [
            " 75%|███████▌  | 418/556 [05:22<01:45,  1.31it/s]"
          ],
          "name": "stderr"
        },
        {
          "output_type": "stream",
          "text": [
            "Loss: 0.0378 Acc: 0.1565\n"
          ],
          "name": "stdout"
        },
        {
          "output_type": "stream",
          "text": [
            "100%|██████████| 556/556 [07:08<00:00,  1.30it/s]\n",
            "  0%|          | 0/556 [00:00<?, ?it/s]"
          ],
          "name": "stderr"
        },
        {
          "output_type": "stream",
          "text": [
            "Loss: 0.0503 Acc: 0.2086\n",
            "Epoch  6\n"
          ],
          "name": "stdout"
        },
        {
          "output_type": "stream",
          "text": [
            "\r  0%|          | 1/556 [00:01<17:56,  1.94s/it]"
          ],
          "name": "stderr"
        },
        {
          "output_type": "stream",
          "text": [
            "Loss: 0.0001 Acc: 0.0002\n"
          ],
          "name": "stdout"
        },
        {
          "output_type": "stream",
          "text": [
            " 25%|██▌       | 140/556 [01:48<05:18,  1.31it/s]"
          ],
          "name": "stderr"
        },
        {
          "output_type": "stream",
          "text": [
            "Loss: 0.0127 Acc: 0.0491\n"
          ],
          "name": "stdout"
        },
        {
          "output_type": "stream",
          "text": [
            " 50%|█████     | 279/556 [03:34<03:32,  1.31it/s]"
          ],
          "name": "stderr"
        },
        {
          "output_type": "stream",
          "text": [
            "Loss: 0.0252 Acc: 0.1008\n"
          ],
          "name": "stdout"
        },
        {
          "output_type": "stream",
          "text": [
            " 75%|███████▌  | 418/556 [05:21<01:46,  1.30it/s]"
          ],
          "name": "stderr"
        },
        {
          "output_type": "stream",
          "text": [
            "Loss: 0.0378 Acc: 0.1503\n"
          ],
          "name": "stdout"
        },
        {
          "output_type": "stream",
          "text": [
            "100%|██████████| 556/556 [07:07<00:00,  1.30it/s]\n"
          ],
          "name": "stderr"
        },
        {
          "output_type": "stream",
          "text": [
            "Loss: 0.0503 Acc: 0.2022\n"
          ],
          "name": "stdout"
        },
        {
          "output_type": "stream",
          "text": [
            "\r  0%|          | 0/556 [00:00<?, ?it/s]"
          ],
          "name": "stderr"
        },
        {
          "output_type": "stream",
          "text": [
            "Epoch  7\n"
          ],
          "name": "stdout"
        },
        {
          "output_type": "stream",
          "text": [
            "\r  0%|          | 1/556 [00:02<20:33,  2.22s/it]"
          ],
          "name": "stderr"
        },
        {
          "output_type": "stream",
          "text": [
            "Loss: 0.0001 Acc: 0.0005\n"
          ],
          "name": "stdout"
        },
        {
          "output_type": "stream",
          "text": [
            " 25%|██▌       | 140/556 [01:48<05:18,  1.31it/s]"
          ],
          "name": "stderr"
        },
        {
          "output_type": "stream",
          "text": [
            "Loss: 0.0127 Acc: 0.0512\n"
          ],
          "name": "stdout"
        },
        {
          "output_type": "stream",
          "text": [
            " 50%|█████     | 279/556 [03:35<03:32,  1.30it/s]"
          ],
          "name": "stderr"
        },
        {
          "output_type": "stream",
          "text": [
            "Loss: 0.0252 Acc: 0.1037\n"
          ],
          "name": "stdout"
        },
        {
          "output_type": "stream",
          "text": [
            " 75%|███████▌  | 418/556 [05:21<01:46,  1.30it/s]"
          ],
          "name": "stderr"
        },
        {
          "output_type": "stream",
          "text": [
            "Loss: 0.0378 Acc: 0.1534\n"
          ],
          "name": "stdout"
        },
        {
          "output_type": "stream",
          "text": [
            "100%|██████████| 556/556 [07:07<00:00,  1.30it/s]\n",
            "  0%|          | 0/556 [00:00<?, ?it/s]"
          ],
          "name": "stderr"
        },
        {
          "output_type": "stream",
          "text": [
            "Loss: 0.0503 Acc: 0.2048\n",
            "Epoch  8\n"
          ],
          "name": "stdout"
        },
        {
          "output_type": "stream",
          "text": [
            "\r  0%|          | 1/556 [00:01<18:27,  2.00s/it]"
          ],
          "name": "stderr"
        },
        {
          "output_type": "stream",
          "text": [
            "Loss: 0.0001 Acc: 0.0005\n"
          ],
          "name": "stdout"
        },
        {
          "output_type": "stream",
          "text": [
            " 25%|██▌       | 140/556 [01:48<05:18,  1.31it/s]"
          ],
          "name": "stderr"
        },
        {
          "output_type": "stream",
          "text": [
            "Loss: 0.0127 Acc: 0.0512\n"
          ],
          "name": "stdout"
        },
        {
          "output_type": "stream",
          "text": [
            " 50%|█████     | 279/556 [03:35<03:32,  1.31it/s]"
          ],
          "name": "stderr"
        },
        {
          "output_type": "stream",
          "text": [
            "Loss: 0.0252 Acc: 0.1029\n"
          ],
          "name": "stdout"
        },
        {
          "output_type": "stream",
          "text": [
            " 75%|███████▌  | 418/556 [05:21<01:45,  1.30it/s]"
          ],
          "name": "stderr"
        },
        {
          "output_type": "stream",
          "text": [
            "Loss: 0.0378 Acc: 0.1539\n"
          ],
          "name": "stdout"
        },
        {
          "output_type": "stream",
          "text": [
            "100%|██████████| 556/556 [07:07<00:00,  1.30it/s]\n"
          ],
          "name": "stderr"
        },
        {
          "output_type": "stream",
          "text": [
            "Loss: 0.0503 Acc: 0.2069\n"
          ],
          "name": "stdout"
        },
        {
          "output_type": "stream",
          "text": [
            "\r  0%|          | 0/556 [00:00<?, ?it/s]"
          ],
          "name": "stderr"
        },
        {
          "output_type": "stream",
          "text": [
            "Epoch  9\n"
          ],
          "name": "stdout"
        },
        {
          "output_type": "stream",
          "text": [
            "\r  0%|          | 1/556 [00:02<22:11,  2.40s/it]"
          ],
          "name": "stderr"
        },
        {
          "output_type": "stream",
          "text": [
            "Loss: 0.0001 Acc: 0.0007\n"
          ],
          "name": "stdout"
        },
        {
          "output_type": "stream",
          "text": [
            " 25%|██▌       | 140/556 [01:49<05:18,  1.31it/s]"
          ],
          "name": "stderr"
        },
        {
          "output_type": "stream",
          "text": [
            "Loss: 0.0127 Acc: 0.0527\n"
          ],
          "name": "stdout"
        },
        {
          "output_type": "stream",
          "text": [
            " 50%|█████     | 279/556 [03:35<03:31,  1.31it/s]"
          ],
          "name": "stderr"
        },
        {
          "output_type": "stream",
          "text": [
            "Loss: 0.0252 Acc: 0.1035\n"
          ],
          "name": "stdout"
        },
        {
          "output_type": "stream",
          "text": [
            " 75%|███████▌  | 418/556 [05:21<01:45,  1.31it/s]"
          ],
          "name": "stderr"
        },
        {
          "output_type": "stream",
          "text": [
            "Loss: 0.0378 Acc: 0.1554\n"
          ],
          "name": "stdout"
        },
        {
          "output_type": "stream",
          "text": [
            "100%|██████████| 556/556 [07:07<00:00,  1.30it/s]\n",
            "  0%|          | 0/556 [00:00<?, ?it/s]"
          ],
          "name": "stderr"
        },
        {
          "output_type": "stream",
          "text": [
            "Loss: 0.0503 Acc: 0.2089\n",
            "Epoch  10\n"
          ],
          "name": "stdout"
        },
        {
          "output_type": "stream",
          "text": [
            "\r  0%|          | 1/556 [00:01<18:02,  1.95s/it]"
          ],
          "name": "stderr"
        },
        {
          "output_type": "stream",
          "text": [
            "Loss: 0.0001 Acc: 0.0003\n"
          ],
          "name": "stdout"
        },
        {
          "output_type": "stream",
          "text": [
            " 25%|██▌       | 140/556 [01:48<05:18,  1.30it/s]"
          ],
          "name": "stderr"
        },
        {
          "output_type": "stream",
          "text": [
            "Loss: 0.0127 Acc: 0.0525\n"
          ],
          "name": "stdout"
        },
        {
          "output_type": "stream",
          "text": [
            " 50%|█████     | 279/556 [03:34<03:32,  1.31it/s]"
          ],
          "name": "stderr"
        },
        {
          "output_type": "stream",
          "text": [
            "Loss: 0.0252 Acc: 0.1024\n"
          ],
          "name": "stdout"
        },
        {
          "output_type": "stream",
          "text": [
            " 75%|███████▌  | 418/556 [05:20<01:45,  1.31it/s]"
          ],
          "name": "stderr"
        },
        {
          "output_type": "stream",
          "text": [
            "Loss: 0.0378 Acc: 0.1559\n"
          ],
          "name": "stdout"
        },
        {
          "output_type": "stream",
          "text": [
            "100%|██████████| 556/556 [07:06<00:00,  1.30it/s]\n"
          ],
          "name": "stderr"
        },
        {
          "output_type": "stream",
          "text": [
            "Loss: 0.0503 Acc: 0.2077\n"
          ],
          "name": "stdout"
        },
        {
          "output_type": "stream",
          "text": [
            "\r  0%|          | 0/556 [00:00<?, ?it/s]"
          ],
          "name": "stderr"
        },
        {
          "output_type": "stream",
          "text": [
            "Epoch  11\n"
          ],
          "name": "stdout"
        },
        {
          "output_type": "stream",
          "text": [
            "\r  0%|          | 1/556 [00:02<21:48,  2.36s/it]"
          ],
          "name": "stderr"
        },
        {
          "output_type": "stream",
          "text": [
            "Loss: 0.0001 Acc: 0.0003\n"
          ],
          "name": "stdout"
        },
        {
          "output_type": "stream",
          "text": [
            " 25%|██▌       | 140/556 [01:49<05:18,  1.31it/s]"
          ],
          "name": "stderr"
        },
        {
          "output_type": "stream",
          "text": [
            "Loss: 0.0127 Acc: 0.0524\n"
          ],
          "name": "stdout"
        },
        {
          "output_type": "stream",
          "text": [
            " 40%|████      | 225/556 [02:54<04:13,  1.31it/s]"
          ],
          "name": "stderr"
        }
      ]
    },
    {
      "cell_type": "markdown",
      "metadata": {
        "id": "ftDjlEwYETWY",
        "colab_type": "text"
      },
      "source": [
        "# Run the code between this ONLY if you want to save and load the model"
      ]
    },
    {
      "cell_type": "code",
      "metadata": {
        "id": "QcBuoluu1tXf",
        "colab_type": "code",
        "colab": {}
      },
      "source": [
        "import pickle\n",
        "model_path = '/content/drive/My Drive/FYP-Datasets/models/finalized/vgg_model.pth'"
      ],
      "execution_count": 0,
      "outputs": []
    },
    {
      "cell_type": "code",
      "metadata": {
        "id": "QbJU-sTHqien",
        "colab_type": "code",
        "colab": {}
      },
      "source": [
        "# pickle.dump(model, open(filename, 'wb'))\n",
        "torch.save(model.state_dict(), model_path)"
      ],
      "execution_count": 0,
      "outputs": []
    },
    {
      "cell_type": "code",
      "metadata": {
        "id": "KHXW_M-B2BsT",
        "colab_type": "code",
        "colab": {}
      },
      "source": [
        "model.load_state_dict(torch.load(model_path, map_location=device))\n",
        "\n",
        "model.cuda()\n",
        "# loaded_model = pickle.load(open(filename, 'rb'))"
      ],
      "execution_count": 0,
      "outputs": []
    },
    {
      "cell_type": "markdown",
      "metadata": {
        "id": "Tkm9uNcEEc5m",
        "colab_type": "text"
      },
      "source": [
        "# Run the above code ONLY if you want to save and load the model"
      ]
    },
    {
      "cell_type": "code",
      "metadata": {
        "id": "o9VZkUKz3ltk",
        "colab_type": "code",
        "outputId": "223f3cee-fea1-4a1b-d375-7decec21ce7c",
        "colab": {
          "base_uri": "https://localhost:8080/",
          "height": 323
        }
      },
      "source": [
        "from sklearn.metrics import classification_report\n",
        "from tqdm import tqdm\n",
        "correct = 0\n",
        "total = 0\n",
        "actual = []\n",
        "predicted = []\n",
        "model.eval()\n",
        "with torch.no_grad():\n",
        "    for data in tqdm(dataloaders['test'],position=0,leave=True):\n",
        "        images, labels = data[0].to(device), data[1].to(device)\n",
        "\n",
        "        addData = generateValues(labels)\n",
        "        dataTensor = torch.from_numpy(addData)\n",
        "        dataTensor = dataTensor.to(device)\n",
        "\n",
        "        outputs = model(images, dataTensor.float())\n",
        "        _, preds = torch.max(outputs.data, 1)\n",
        "        total += labels.size(0)\n",
        "        correct += (preds == labels).sum().item()\n",
        "        predicted = predicted + preds.tolist()\n",
        "        actual = actual + labels.tolist()\n",
        "print()\n",
        "print()\n",
        "\n",
        "print('Accuracy of the network on the all test images: %d %%' % (100 * correct / total))\n",
        "\n",
        "class_report = classification_report(actual, predicted, target_names=classes)\n",
        "\n",
        "print()\n",
        "print()\n",
        "print(class_report)\n",
        "\n"
      ],
      "execution_count": 0,
      "outputs": [
        {
          "output_type": "stream",
          "text": [
            "100%|██████████| 556/556 [34:22<00:00,  3.71s/it]"
          ],
          "name": "stderr"
        },
        {
          "output_type": "stream",
          "text": [
            "\n",
            "\n",
            "Accuracy of the network on the all test images: 99 %\n",
            "\n",
            "\n",
            "              precision    recall  f1-score   support\n",
            "\n",
            "     class-1       1.00      1.00      1.00      3487\n",
            "     class-2       1.00      1.00      1.00      3661\n",
            "     class-3       1.00      1.00      1.00      3547\n",
            "     class-4       1.00      1.00      1.00      3453\n",
            "     class-5       1.00      1.00      1.00      3641\n",
            "\n",
            "    accuracy                           1.00     17789\n",
            "   macro avg       1.00      1.00      1.00     17789\n",
            "weighted avg       1.00      1.00      1.00     17789\n",
            "\n"
          ],
          "name": "stdout"
        },
        {
          "output_type": "stream",
          "text": [
            "\n"
          ],
          "name": "stderr"
        }
      ]
    },
    {
      "cell_type": "code",
      "metadata": {
        "id": "OmW3zpIiH8tg",
        "colab_type": "code",
        "outputId": "6655c9ac-bbd8-40b9-d8eb-388a7f8af1e1",
        "colab": {
          "base_uri": "https://localhost:8080/",
          "height": 468
        }
      },
      "source": [
        "import seaborn as sn\n",
        "import pandas as pd\n",
        "import matplotlib.pyplot as plt\n",
        "from sklearn.metrics import confusion_matrix\n",
        "\n",
        "actual_label = list(map((lambda x: classes[x]), actual))\n",
        "pred_label = list(map((lambda x: classes[x]), predicted))\n",
        "conf_mat = confusion_matrix(actual_label, pred_label, classes)\n",
        "\n",
        "df_cm = pd.DataFrame(conf_mat, classes, classes)\n",
        "\n",
        "sn.set(font_scale=1.4) # for label size\n",
        "plt.figure(figsize = (10,7))\n",
        "sn.heatmap(df_cm, annot=True, fmt=\"d\") # font size\n",
        "\n",
        "plt.show()"
      ],
      "execution_count": 0,
      "outputs": [
        {
          "output_type": "stream",
          "text": [
            "/usr/local/lib/python3.6/dist-packages/statsmodels/tools/_testing.py:19: FutureWarning: pandas.util.testing is deprecated. Use the functions in the public API at pandas.testing instead.\n",
            "  import pandas.util.testing as tm\n"
          ],
          "name": "stderr"
        },
        {
          "output_type": "display_data",
          "data": {
            "image/png": "[encoded data removed]",
            "text/plain": [
              "<Figure size 720x504 with 2 Axes>"
            ]
          },
          "metadata": {
            "tags": []
          }
        }
      ]
    },
    {
      "cell_type": "code",
      "metadata": {
        "id": "d00V4xqUDhp5",
        "colab_type": "code",
        "colab": {}
      },
      "source": [
        "class_correct = list(0. for i in range(5))\n",
        "class_total = list(0. for i in range(5))\n",
        "model.eval()\n",
        "with torch.no_grad():\n",
        "    for data in tqdm(dataloaders['test'],position=0,leave=True):\n",
        "        images, labels = data[0].to(device), data[1].to(device)\n",
        "        outputs = model(images)\n",
        "        _, predicted = torch.max(outputs, 1)\n",
        "        c = (predicted == labels).squeeze()\n",
        "        for i in range(2):\n",
        "            label = labels[i]\n",
        "            class_correct[label] += c[i].item()\n",
        "            class_total[label] += 1\n",
        "\n",
        "print()\n",
        "for i in range(5):\n",
        "    print('Accuracy of %5s : %2d %%' % (classes[i], 100 * class_correct[i] / class_total[i]))"
      ],
      "execution_count": 0,
      "outputs": []
    }
  ]
}