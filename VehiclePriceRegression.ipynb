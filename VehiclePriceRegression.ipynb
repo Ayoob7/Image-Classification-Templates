{
  "nbformat": 4,
  "nbformat_minor": 0,
  "metadata": {
    "colab": {
      "name": "SecondYear.ipynb",
      "provenance": []
    },
    "kernelspec": {
      "name": "python3",
      "display_name": "Python 3"
    }
  },
  "cells": [
    {
      "cell_type": "code",
      "metadata": {
        "id": "J4OXe91lHuaQ",
        "colab_type": "code",
        "outputId": "712ef7a1-2742-4564-a2f3-5a60a9437bb4",
        "colab": {
          "base_uri": "https://localhost:8080/",
          "height": 34
        }
      },
      "source": [
        "from google.colab import drive\n",
        "drive.mount('/content/drive')"
      ],
      "execution_count": 0,
      "outputs": [
        {
          "output_type": "stream",
          "text": [
            "Drive already mounted at /content/drive; to attempt to forcibly remount, call drive.mount(\"/content/drive\", force_remount=True).\n"
          ],
          "name": "stdout"
        }
      ]
    },
    {
      "cell_type": "code",
      "metadata": {
        "id": "RscN3IyMa4Tg",
        "colab_type": "code",
        "outputId": "f4ec3f5a-7f3d-4473-a35f-17a50d7b094f",
        "colab": {
          "base_uri": "https://localhost:8080/",
          "height": 34
        }
      },
      "source": [
        "pwd"
      ],
      "execution_count": 0,
      "outputs": [
        {
          "output_type": "execute_result",
          "data": {
            "text/plain": [
              "'/content'"
            ]
          },
          "metadata": {
            "tags": []
          },
          "execution_count": 1
        }
      ]
    },
    {
      "cell_type": "code",
      "metadata": {
        "id": "LZDhd3xYIQ7w",
        "colab_type": "code",
        "outputId": "68c0afb2-a78b-48a8-b315-bcc53a37c22e",
        "colab": {
          "base_uri": "https://localhost:8080/",
          "height": 34
        }
      },
      "source": [
        "cd drive/My Drive/SecondYearDatasets"
      ],
      "execution_count": 0,
      "outputs": [
        {
          "output_type": "stream",
          "text": [
            "/content/drive/My Drive/SecondYearDatasets\n"
          ],
          "name": "stdout"
        }
      ]
    },
    {
      "cell_type": "code",
      "metadata": {
        "id": "ROeyuAXAKMo4",
        "colab_type": "code",
        "colab": {}
      },
      "source": [
        "import pandas as pd\n",
        "import numpy as np"
      ],
      "execution_count": 0,
      "outputs": []
    },
    {
      "cell_type": "code",
      "metadata": {
        "id": "YRNWJeSeIaV9",
        "colab_type": "code",
        "colab": {}
      },
      "source": [
        "dfs = pd.read_excel(\"dddddd.xlsx\", sheet_name=None)"
      ],
      "execution_count": 0,
      "outputs": []
    },
    {
      "cell_type": "code",
      "metadata": {
        "id": "is3wb5MNI1Ez",
        "colab_type": "code",
        "colab": {}
      },
      "source": [
        "clean_df = dfs['Sheet1']\n",
        "del clean_df['id']\n",
        "del clean_df['Vehicle company']"
      ],
      "execution_count": 0,
      "outputs": []
    },
    {
      "cell_type": "code",
      "metadata": {
        "id": "oE1L3--jY1M-",
        "colab_type": "code",
        "colab": {}
      },
      "source": [
        "clean_df = clean_df.dropna()"
      ],
      "execution_count": 0,
      "outputs": []
    },
    {
      "cell_type": "code",
      "metadata": {
        "id": "F2LFBUbKK841",
        "colab_type": "code",
        "outputId": "da101757-3564-4779-d7ea-cb43e40fa5b9",
        "colab": {
          "base_uri": "https://localhost:8080/",
          "height": 119
        }
      },
      "source": [
        "def fliterPrices(df):\n",
        "    return float(''.join(filter(str.isdigit, df['2 years before'] )))\n",
        "\n",
        "clean_df['prices'] = clean_df.apply(fliterPrices, axis = 1)"
      ],
      "execution_count": 0,
      "outputs": [
        {
          "output_type": "stream",
          "text": [
            "/usr/local/lib/python3.6/dist-packages/ipykernel_launcher.py:4: SettingWithCopyWarning: \n",
            "A value is trying to be set on a copy of a slice from a DataFrame.\n",
            "Try using .loc[row_indexer,col_indexer] = value instead\n",
            "\n",
            "See the caveats in the documentation: http://pandas.pydata.org/pandas-docs/stable/user_guide/indexing.html#returning-a-view-versus-a-copy\n",
            "  after removing the cwd from sys.path.\n"
          ],
          "name": "stderr"
        }
      ]
    },
    {
      "cell_type": "code",
      "metadata": {
        "id": "g_QwdOuBOdSE",
        "colab_type": "code",
        "colab": {}
      },
      "source": [
        "del clean_df['2 years before']"
      ],
      "execution_count": 0,
      "outputs": []
    },
    {
      "cell_type": "code",
      "metadata": {
        "id": "fZNFmTvvPNKt",
        "colab_type": "code",
        "outputId": "765d8c02-e661-471b-daf1-9580fd6e8b3e",
        "colab": {
          "base_uri": "https://localhost:8080/",
          "height": 119
        }
      },
      "source": [
        "clean_df['vehicle_name'] = clean_df['Vehicle name']"
      ],
      "execution_count": 0,
      "outputs": [
        {
          "output_type": "stream",
          "text": [
            "/usr/local/lib/python3.6/dist-packages/ipykernel_launcher.py:1: SettingWithCopyWarning: \n",
            "A value is trying to be set on a copy of a slice from a DataFrame.\n",
            "Try using .loc[row_indexer,col_indexer] = value instead\n",
            "\n",
            "See the caveats in the documentation: http://pandas.pydata.org/pandas-docs/stable/user_guide/indexing.html#returning-a-view-versus-a-copy\n",
            "  \"\"\"Entry point for launching an IPython kernel.\n"
          ],
          "name": "stderr"
        }
      ]
    },
    {
      "cell_type": "code",
      "metadata": {
        "id": "4NrSjYbSPrjg",
        "colab_type": "code",
        "colab": {}
      },
      "source": [
        "del clean_df['Vehicle name']"
      ],
      "execution_count": 0,
      "outputs": []
    },
    {
      "cell_type": "code",
      "metadata": {
        "id": "O3moxi2hP0eC",
        "colab_type": "code",
        "colab": {}
      },
      "source": [
        "word_dict = []\n",
        "for line in clean_df['vehicle_name']:\n",
        "  for word in line.split(\" \"):\n",
        "    if word not in word_dict:\n",
        "      word_dict.append(word)"
      ],
      "execution_count": 0,
      "outputs": []
    },
    {
      "cell_type": "code",
      "metadata": {
        "id": "AC4r5OzySPoN",
        "colab_type": "code",
        "outputId": "18995bb5-9a3c-4a7e-e460-c1c5f0652f5e",
        "colab": {
          "base_uri": "https://localhost:8080/",
          "height": 119
        }
      },
      "source": [
        "def createVectors(df):\n",
        "  list_zeros = [0]* len(word_dict)\n",
        "  for name in df['vehicle_name'].split(\" \"):\n",
        "    if name in word_dict:\n",
        "      indx = word_dict.index(name)\n",
        "      list_zeros[indx] = 1\n",
        "  return list_zeros\n",
        "\n",
        "clean_df['name_vectors'] = clean_df.apply(createVectors, axis = 1)"
      ],
      "execution_count": 0,
      "outputs": [
        {
          "output_type": "stream",
          "text": [
            "/usr/local/lib/python3.6/dist-packages/ipykernel_launcher.py:9: SettingWithCopyWarning: \n",
            "A value is trying to be set on a copy of a slice from a DataFrame.\n",
            "Try using .loc[row_indexer,col_indexer] = value instead\n",
            "\n",
            "See the caveats in the documentation: http://pandas.pydata.org/pandas-docs/stable/user_guide/indexing.html#returning-a-view-versus-a-copy\n",
            "  if __name__ == '__main__':\n"
          ],
          "name": "stderr"
        }
      ]
    },
    {
      "cell_type": "code",
      "metadata": {
        "id": "THVVaBLXSsqC",
        "colab_type": "code",
        "colab": {}
      },
      "source": [
        "del clean_df['vehicle_name']"
      ],
      "execution_count": 0,
      "outputs": []
    },
    {
      "cell_type": "code",
      "metadata": {
        "id": "0PhKPY9qXcp1",
        "colab_type": "code",
        "colab": {}
      },
      "source": [
        "# Data Preprocessing \n",
        "features = clean_df['name_vectors']\n",
        "labels = clean_df['prices']"
      ],
      "execution_count": 0,
      "outputs": []
    },
    {
      "cell_type": "code",
      "metadata": {
        "id": "fKmyAStWpOTa",
        "colab_type": "code",
        "colab": {}
      },
      "source": [
        "clean_features = []\n",
        "for i in features:\n",
        "  clean_features.append(i)"
      ],
      "execution_count": 0,
      "outputs": []
    },
    {
      "cell_type": "code",
      "metadata": {
        "id": "S0l6dCdupon3",
        "colab_type": "code",
        "colab": {}
      },
      "source": [
        "clean_labels = []\n",
        "for i in labels:\n",
        "  clean_labels.append(i)"
      ],
      "execution_count": 0,
      "outputs": []
    },
    {
      "cell_type": "code",
      "metadata": {
        "id": "TFNV50ZIXnqp",
        "colab_type": "code",
        "colab": {}
      },
      "source": [
        "# Test Train Split\n",
        "from sklearn.model_selection import train_test_split\n",
        "X_train, X_test, y_train, y_test = train_test_split(clean_features, clean_labels, test_size=0.3, random_state=42)"
      ],
      "execution_count": 0,
      "outputs": []
    },
    {
      "cell_type": "code",
      "metadata": {
        "id": "93XVSOZ8nf0h",
        "colab_type": "code",
        "outputId": "c62aa2fa-c976-41d9-9257-ed1d53c3bb91",
        "colab": {
          "base_uri": "https://localhost:8080/",
          "height": 85
        }
      },
      "source": [
        "from sklearn import linear_model\n",
        "clf = linear_model.BayesianRidge()\n",
        "clf.fit(X_train, y_train)"
      ],
      "execution_count": 0,
      "outputs": [
        {
          "output_type": "execute_result",
          "data": {
            "text/plain": [
              "BayesianRidge(alpha_1=1e-06, alpha_2=1e-06, alpha_init=None,\n",
              "              compute_score=False, copy_X=True, fit_intercept=True,\n",
              "              lambda_1=1e-06, lambda_2=1e-06, lambda_init=None, n_iter=300,\n",
              "              normalize=False, tol=0.001, verbose=False)"
            ]
          },
          "metadata": {
            "tags": []
          },
          "execution_count": 29
        }
      ]
    },
    {
      "cell_type": "code",
      "metadata": {
        "id": "fmLINglRqMUJ",
        "colab_type": "code",
        "colab": {}
      },
      "source": [
        "def create_vector_predict(word):\n",
        "  list_zeros = [0]* len(word_dict)\n",
        "  for name in word.split(\" \"):\n",
        "    if name in word_dict:\n",
        "      indx = word_dict.index(name)\n",
        "      list_zeros[indx] = 1\n",
        "  return list_zeros\n"
      ],
      "execution_count": 0,
      "outputs": []
    },
    {
      "cell_type": "code",
      "metadata": {
        "id": "j0lui7bMrdHk",
        "colab_type": "code",
        "colab": {}
      },
      "source": [
        "pred = clf.predict(X_test)"
      ],
      "execution_count": 0,
      "outputs": []
    },
    {
      "cell_type": "code",
      "metadata": {
        "id": "qWAZfScWr5lH",
        "colab_type": "code",
        "outputId": "43095b25-4163-482c-f20d-2c0956fa286a",
        "colab": {
          "base_uri": "https://localhost:8080/",
          "height": 34
        }
      },
      "source": [
        "from sklearn.metrics import mean_squared_log_error\n",
        "mean_squared_log_error(y_test, pred)"
      ],
      "execution_count": 35,
      "outputs": [
        {
          "output_type": "execute_result",
          "data": {
            "text/plain": [
              "1.1243137661279488"
            ]
          },
          "metadata": {
            "tags": []
          },
          "execution_count": 35
        }
      ]
    },
    {
      "cell_type": "code",
      "metadata": {
        "id": "ycHGyqPDsnyd",
        "colab_type": "code",
        "colab": {
          "base_uri": "https://localhost:8080/",
          "height": 34
        },
        "outputId": "a64d3c53-e05b-4c2b-c045-b8a3d9ec2058"
      },
      "source": [
        "from sklearn.metrics import explained_variance_score\n",
        "explained_variance_score(y_test, pred)"
      ],
      "execution_count": 36,
      "outputs": [
        {
          "output_type": "execute_result",
          "data": {
            "text/plain": [
              "7.706391080830599e-12"
            ]
          },
          "metadata": {
            "tags": []
          },
          "execution_count": 36
        }
      ]
    },
    {
      "cell_type": "markdown",
      "metadata": {
        "id": "hrCU7RYirXZX",
        "colab_type": "text"
      },
      "source": [
        "# Prediction Logic"
      ]
    },
    {
      "cell_type": "code",
      "metadata": {
        "id": "dD5807fTqFTc",
        "colab_type": "code",
        "outputId": "35640ee7-909e-4c26-afd3-ef050f466ff1",
        "colab": {
          "base_uri": "https://localhost:8080/",
          "height": 34
        }
      },
      "source": [
        "clf.predict([create_vector_predict(\"Honda Fit GP5 Sport 2018\")])"
      ],
      "execution_count": 0,
      "outputs": [
        {
          "output_type": "execute_result",
          "data": {
            "text/plain": [
              "array([5858738.88000234])"
            ]
          },
          "metadata": {
            "tags": []
          },
          "execution_count": 31
        }
      ]
    }
  ]
}